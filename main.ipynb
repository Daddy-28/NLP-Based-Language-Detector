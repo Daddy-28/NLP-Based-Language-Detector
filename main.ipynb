{
 "cells": [
  {
   "cell_type": "code",
   "execution_count": 10,
   "id": "79e6a4a2-154e-42c6-96da-9c2cee20ee5c",
   "metadata": {},
   "outputs": [],
   "source": [
    "import numpy as np\n",
    "import pandas as pd\n",
    "import matplotlib.pyplot as plt\n",
    "import seaborn as sns\n",
    "from collections import defaultdict"
   ]
  },
  {
   "cell_type": "code",
   "execution_count": 11,
   "id": "fae8ac8e-d8de-45ea-8137-af23669e921a",
   "metadata": {},
   "outputs": [],
   "source": [
    "train=pd.read_csv(\"train_datset.csv\")\n",
    "test=pd.read_csv(\"test_dataset.csv\")"
   ]
  },
  {
   "cell_type": "code",
   "execution_count": 12,
   "id": "f79874bd-0138-457a-bc6f-af4a2b84a414",
   "metadata": {},
   "outputs": [
    {
     "name": "stdout",
     "output_type": "stream",
     "text": [
      "(500, 4)\n",
      "(299, 3)\n"
     ]
    }
   ],
   "source": [
    "print(train.shape)\n",
    "print(test.shape)"
   ]
  },
  {
   "cell_type": "code",
   "execution_count": 13,
   "id": "42d47013-495d-4a01-a445-f1bc31f3db2a",
   "metadata": {},
   "outputs": [
    {
     "data": {
      "text/html": [
       "<div>\n",
       "<style scoped>\n",
       "    .dataframe tbody tr th:only-of-type {\n",
       "        vertical-align: middle;\n",
       "    }\n",
       "\n",
       "    .dataframe tbody tr th {\n",
       "        vertical-align: top;\n",
       "    }\n",
       "\n",
       "    .dataframe thead th {\n",
       "        text-align: right;\n",
       "    }\n",
       "</style>\n",
       "<table border=\"1\" class=\"dataframe\">\n",
       "  <thead>\n",
       "    <tr style=\"text-align: right;\">\n",
       "      <th></th>\n",
       "      <th>message</th>\n",
       "      <th>fingers</th>\n",
       "      <th>tail</th>\n",
       "      <th>species</th>\n",
       "    </tr>\n",
       "  </thead>\n",
       "  <tbody>\n",
       "    <tr>\n",
       "      <th>0</th>\n",
       "      <td>pluvia arbor aquos</td>\n",
       "      <td>4</td>\n",
       "      <td>no</td>\n",
       "      <td>Aquari</td>\n",
       "    </tr>\n",
       "    <tr>\n",
       "      <th>1</th>\n",
       "      <td>cosmix xeno nebuz odbitaz</td>\n",
       "      <td>5</td>\n",
       "      <td>yes</td>\n",
       "      <td>Zorblax</td>\n",
       "    </tr>\n",
       "    <tr>\n",
       "      <th>2</th>\n",
       "      <td>solarix glixx novum galaxum quasar</td>\n",
       "      <td>5</td>\n",
       "      <td>yes</td>\n",
       "      <td>Zorblax</td>\n",
       "    </tr>\n",
       "    <tr>\n",
       "      <th>3</th>\n",
       "      <td>arbor insectus pesros ekos dootix nimbus</td>\n",
       "      <td>2</td>\n",
       "      <td>yes</td>\n",
       "      <td>Florian</td>\n",
       "    </tr>\n",
       "    <tr>\n",
       "      <th>4</th>\n",
       "      <td>mermax drakos lorix epikoz deftax</td>\n",
       "      <td>4</td>\n",
       "      <td>no</td>\n",
       "      <td>Faerix</td>\n",
       "    </tr>\n",
       "  </tbody>\n",
       "</table>\n",
       "</div>"
      ],
      "text/plain": [
       "                                    message  fingers tail  species\n",
       "0                        pluvia arbor aquos        4   no   Aquari\n",
       "1                 cosmix xeno nebuz odbitaz        5  yes  Zorblax\n",
       "2        solarix glixx novum galaxum quasar        5  yes  Zorblax\n",
       "3  arbor insectus pesros ekos dootix nimbus        2  yes  Florian\n",
       "4         mermax drakos lorix epikoz deftax        4   no   Faerix"
      ]
     },
     "execution_count": 13,
     "metadata": {},
     "output_type": "execute_result"
    }
   ],
   "source": [
    "train.head()"
   ]
  },
  {
   "cell_type": "code",
   "execution_count": 14,
   "id": "b55d6152-8914-45f9-984f-53cc0af3a184",
   "metadata": {},
   "outputs": [
    {
     "data": {
      "text/html": [
       "<div>\n",
       "<style scoped>\n",
       "    .dataframe tbody tr th:only-of-type {\n",
       "        vertical-align: middle;\n",
       "    }\n",
       "\n",
       "    .dataframe tbody tr th {\n",
       "        vertical-align: top;\n",
       "    }\n",
       "\n",
       "    .dataframe thead th {\n",
       "        text-align: right;\n",
       "    }\n",
       "</style>\n",
       "<table border=\"1\" class=\"dataframe\">\n",
       "  <thead>\n",
       "    <tr style=\"text-align: right;\">\n",
       "      <th></th>\n",
       "      <th>message</th>\n",
       "      <th>fingers</th>\n",
       "      <th>tail</th>\n",
       "    </tr>\n",
       "  </thead>\n",
       "  <tbody>\n",
       "    <tr>\n",
       "      <th>0</th>\n",
       "      <td>iephyr terram nimbus terram faunar foliar</td>\n",
       "      <td>2</td>\n",
       "      <td>no</td>\n",
       "    </tr>\n",
       "    <tr>\n",
       "      <th>1</th>\n",
       "      <td>joyzor uleex luvium caloox shockus blissae</td>\n",
       "      <td>4</td>\n",
       "      <td>yes</td>\n",
       "    </tr>\n",
       "    <tr>\n",
       "      <th>2</th>\n",
       "      <td>aquos arbor ventuc</td>\n",
       "      <td>4</td>\n",
       "      <td>yes</td>\n",
       "    </tr>\n",
       "    <tr>\n",
       "      <th>3</th>\n",
       "      <td>nympha nympha epikoz nympha mythox mythox mythox</td>\n",
       "      <td>3</td>\n",
       "      <td>no</td>\n",
       "    </tr>\n",
       "    <tr>\n",
       "      <th>4</th>\n",
       "      <td>diitax sibenix fabulon</td>\n",
       "      <td>4</td>\n",
       "      <td>yes</td>\n",
       "    </tr>\n",
       "  </tbody>\n",
       "</table>\n",
       "</div>"
      ],
      "text/plain": [
       "                                            message  fingers tail\n",
       "0         iephyr terram nimbus terram faunar foliar        2   no\n",
       "1        joyzor uleex luvium caloox shockus blissae        4  yes\n",
       "2                                aquos arbor ventuc        4  yes\n",
       "3  nympha nympha epikoz nympha mythox mythox mythox        3   no\n",
       "4                            diitax sibenix fabulon        4  yes"
      ]
     },
     "execution_count": 14,
     "metadata": {},
     "output_type": "execute_result"
    }
   ],
   "source": [
    "test.head()"
   ]
  },
  {
   "cell_type": "code",
   "execution_count": 15,
   "id": "1d20868d-4c0d-4fab-92d4-f133abfb3d50",
   "metadata": {},
   "outputs": [
    {
     "name": "stdout",
     "output_type": "stream",
     "text": [
      "<class 'pandas.core.frame.DataFrame'>\n",
      "RangeIndex: 500 entries, 0 to 499\n",
      "Data columns (total 4 columns):\n",
      " #   Column   Non-Null Count  Dtype \n",
      "---  ------   --------------  ----- \n",
      " 0   message  500 non-null    object\n",
      " 1   fingers  500 non-null    int64 \n",
      " 2   tail     500 non-null    object\n",
      " 3   species  500 non-null    object\n",
      "dtypes: int64(1), object(3)\n",
      "memory usage: 15.8+ KB\n"
     ]
    }
   ],
   "source": [
    "train.info()"
   ]
  },
  {
   "cell_type": "code",
   "execution_count": 16,
   "id": "9afa8ebd-23f5-42b5-be11-3ddf2a74decb",
   "metadata": {},
   "outputs": [
    {
     "name": "stdout",
     "output_type": "stream",
     "text": [
      "<class 'pandas.core.frame.DataFrame'>\n",
      "RangeIndex: 299 entries, 0 to 298\n",
      "Data columns (total 3 columns):\n",
      " #   Column   Non-Null Count  Dtype \n",
      "---  ------   --------------  ----- \n",
      " 0   message  299 non-null    object\n",
      " 1   fingers  299 non-null    int64 \n",
      " 2   tail     299 non-null    object\n",
      "dtypes: int64(1), object(2)\n",
      "memory usage: 7.1+ KB\n"
     ]
    }
   ],
   "source": [
    "test.info()"
   ]
  },
  {
   "cell_type": "code",
   "execution_count": 17,
   "id": "caf8d41f-f275-4f96-92a9-dcbf80cdfb5a",
   "metadata": {},
   "outputs": [
    {
     "data": {
      "text/plain": [
       "array([4, 5, 2, 3, 6, 7, 1, 8, 0, 9], dtype=int64)"
      ]
     },
     "execution_count": 17,
     "metadata": {},
     "output_type": "execute_result"
    }
   ],
   "source": [
    "train['fingers'].unique()"
   ]
  },
  {
   "cell_type": "code",
   "execution_count": 18,
   "id": "ec356be6-24b0-414d-a0d6-4d94bed472e4",
   "metadata": {},
   "outputs": [
    {
     "data": {
      "text/plain": [
       "array(['no', 'yes'], dtype=object)"
      ]
     },
     "execution_count": 18,
     "metadata": {},
     "output_type": "execute_result"
    }
   ],
   "source": [
    "train['tail'].unique()"
   ]
  },
  {
   "cell_type": "code",
   "execution_count": 19,
   "id": "64ff2861-d134-44cb-bbe5-5f87ff1eb56d",
   "metadata": {},
   "outputs": [
    {
     "data": {
      "text/plain": [
       "array(['Aquari', 'Zorblax', 'Florian', 'Faerix', 'Nexoon', 'Mythron',\n",
       "       'Emotivor', 'Sentire', 'Quixnar', 'Cybex'], dtype=object)"
      ]
     },
     "execution_count": 19,
     "metadata": {},
     "output_type": "execute_result"
    }
   ],
   "source": [
    "train['species'].unique()"
   ]
  },
  {
   "cell_type": "code",
   "execution_count": 20,
   "id": "01ce2104-b635-4cb4-b1f2-3e93b9e8448a",
   "metadata": {},
   "outputs": [
    {
     "data": {
      "text/plain": [
       "species\n",
       "Quixnar     60\n",
       "Cybex       55\n",
       "Emotivor    54\n",
       "Florian     52\n",
       "Zorblax     51\n",
       "Mythron     50\n",
       "Aquari      48\n",
       "Sentire     44\n",
       "Faerix      43\n",
       "Nexoon      43\n",
       "Name: count, dtype: int64"
      ]
     },
     "execution_count": 20,
     "metadata": {},
     "output_type": "execute_result"
    }
   ],
   "source": [
    "train['species'].value_counts()"
   ]
  },
  {
   "cell_type": "code",
   "execution_count": 21,
   "id": "c30ed3d4-8f7b-427b-a01e-746149119109",
   "metadata": {},
   "outputs": [
    {
     "data": {
      "text/plain": [
       "tail\n",
       "no     252\n",
       "yes    248\n",
       "Name: count, dtype: int64"
      ]
     },
     "execution_count": 21,
     "metadata": {},
     "output_type": "execute_result"
    }
   ],
   "source": [
    "train['tail'].value_counts()"
   ]
  },
  {
   "cell_type": "code",
   "execution_count": 22,
   "id": "cd917bbd-692b-406b-87dd-d2d70139ba8b",
   "metadata": {},
   "outputs": [
    {
     "data": {
      "text/plain": [
       "fingers\n",
       "4    96\n",
       "5    94\n",
       "3    92\n",
       "2    80\n",
       "1    52\n",
       "6    49\n",
       "7    17\n",
       "8    10\n",
       "0     9\n",
       "9     1\n",
       "Name: count, dtype: int64"
      ]
     },
     "execution_count": 22,
     "metadata": {},
     "output_type": "execute_result"
    }
   ],
   "source": [
    "train['fingers'].value_counts()"
   ]
  },
  {
   "cell_type": "code",
   "execution_count": 23,
   "id": "de349cbf-dd9f-4654-8961-6d47d54e0beb",
   "metadata": {},
   "outputs": [
    {
     "data": {
      "image/png": "[encoded data removed]",
      "text/plain": [
       "<Figure size 1500x500 with 3 Axes>"
      ]
     },
     "metadata": {},
     "output_type": "display_data"
    }
   ],
   "source": [
    "fig, axs = plt.subplots(1, 3, figsize=(15, 5))\n",
    "\n",
    "sns.countplot(x='species', data=train, ax=axs[0], width=0.6)\n",
    "axs[0].set_title('Species Count')\n",
    "axs[0].set_xlabel('Species')\n",
    "axs[0].set_ylabel('Count')\n",
    "axs[0].tick_params(axis='x', rotation=45)  \n",
    "\n",
    "sns.countplot(x='tail', data=train, ax=axs[1], width=0.6)\n",
    "axs[1].set_title('Tail Count')\n",
    "axs[1].set_xlabel('Tail')\n",
    "axs[1].set_ylabel('Count')\n",
    "\n",
    "sns.countplot(x='fingers', data=train, ax=axs[2], width=0.6)\n",
    "axs[2].set_title('Fingers Count')\n",
    "axs[2].set_xlabel('Fingers')\n",
    "axs[2].set_ylabel('Count')\n",
    "\n",
    "plt.tight_layout()\n",
    "plt.show()"
   ]
  },
  {
   "cell_type": "code",
   "execution_count": 24,
   "id": "e467e212-2a77-45dc-be1c-b10fa84725ca",
   "metadata": {},
   "outputs": [],
   "source": [
    "from sklearn.preprocessing import LabelEncoder\n",
    "\n",
    "label_encoder=LabelEncoder()\n",
    "train['tail'] = label_encoder.fit_transform(train['tail'])\n",
    "test['tail'] = label_encoder.fit_transform(test['tail'])"
   ]
  },
  {
   "cell_type": "code",
   "execution_count": 25,
   "id": "8a041909-0089-4e4b-9375-c3f54e6d8a39",
   "metadata": {},
   "outputs": [
    {
     "data": {
      "text/html": [
       "<div>\n",
       "<style scoped>\n",
       "    .dataframe tbody tr th:only-of-type {\n",
       "        vertical-align: middle;\n",
       "    }\n",
       "\n",
       "    .dataframe tbody tr th {\n",
       "        vertical-align: top;\n",
       "    }\n",
       "\n",
       "    .dataframe thead th {\n",
       "        text-align: right;\n",
       "    }\n",
       "</style>\n",
       "<table border=\"1\" class=\"dataframe\">\n",
       "  <thead>\n",
       "    <tr style=\"text-align: right;\">\n",
       "      <th></th>\n",
       "      <th>message</th>\n",
       "      <th>fingers</th>\n",
       "      <th>tail</th>\n",
       "      <th>species</th>\n",
       "    </tr>\n",
       "  </thead>\n",
       "  <tbody>\n",
       "    <tr>\n",
       "      <th>0</th>\n",
       "      <td>pluvia arbor aquos</td>\n",
       "      <td>4</td>\n",
       "      <td>0</td>\n",
       "      <td>Aquari</td>\n",
       "    </tr>\n",
       "    <tr>\n",
       "      <th>1</th>\n",
       "      <td>cosmix xeno nebuz odbitaz</td>\n",
       "      <td>5</td>\n",
       "      <td>1</td>\n",
       "      <td>Zorblax</td>\n",
       "    </tr>\n",
       "    <tr>\n",
       "      <th>2</th>\n",
       "      <td>solarix glixx novum galaxum quasar</td>\n",
       "      <td>5</td>\n",
       "      <td>1</td>\n",
       "      <td>Zorblax</td>\n",
       "    </tr>\n",
       "    <tr>\n",
       "      <th>3</th>\n",
       "      <td>arbor insectus pesros ekos dootix nimbus</td>\n",
       "      <td>2</td>\n",
       "      <td>1</td>\n",
       "      <td>Florian</td>\n",
       "    </tr>\n",
       "    <tr>\n",
       "      <th>4</th>\n",
       "      <td>mermax drakos lorix epikoz deftax</td>\n",
       "      <td>4</td>\n",
       "      <td>0</td>\n",
       "      <td>Faerix</td>\n",
       "    </tr>\n",
       "  </tbody>\n",
       "</table>\n",
       "</div>"
      ],
      "text/plain": [
       "                                    message  fingers  tail  species\n",
       "0                        pluvia arbor aquos        4     0   Aquari\n",
       "1                 cosmix xeno nebuz odbitaz        5     1  Zorblax\n",
       "2        solarix glixx novum galaxum quasar        5     1  Zorblax\n",
       "3  arbor insectus pesros ekos dootix nimbus        2     1  Florian\n",
       "4         mermax drakos lorix epikoz deftax        4     0   Faerix"
      ]
     },
     "execution_count": 25,
     "metadata": {},
     "output_type": "execute_result"
    }
   ],
   "source": [
    "train.head()"
   ]
  },
  {
   "cell_type": "code",
   "execution_count": 26,
   "id": "04c91006-02f2-4a1b-837a-274ce0add275",
   "metadata": {},
   "outputs": [
    {
     "data": {
      "text/html": [
       "<div>\n",
       "<style scoped>\n",
       "    .dataframe tbody tr th:only-of-type {\n",
       "        vertical-align: middle;\n",
       "    }\n",
       "\n",
       "    .dataframe tbody tr th {\n",
       "        vertical-align: top;\n",
       "    }\n",
       "\n",
       "    .dataframe thead th {\n",
       "        text-align: right;\n",
       "    }\n",
       "</style>\n",
       "<table border=\"1\" class=\"dataframe\">\n",
       "  <thead>\n",
       "    <tr style=\"text-align: right;\">\n",
       "      <th></th>\n",
       "      <th>message</th>\n",
       "      <th>fingers</th>\n",
       "      <th>tail</th>\n",
       "    </tr>\n",
       "  </thead>\n",
       "  <tbody>\n",
       "    <tr>\n",
       "      <th>0</th>\n",
       "      <td>iephyr terram nimbus terram faunar foliar</td>\n",
       "      <td>2</td>\n",
       "      <td>0</td>\n",
       "    </tr>\n",
       "    <tr>\n",
       "      <th>1</th>\n",
       "      <td>joyzor uleex luvium caloox shockus blissae</td>\n",
       "      <td>4</td>\n",
       "      <td>1</td>\n",
       "    </tr>\n",
       "    <tr>\n",
       "      <th>2</th>\n",
       "      <td>aquos arbor ventuc</td>\n",
       "      <td>4</td>\n",
       "      <td>1</td>\n",
       "    </tr>\n",
       "    <tr>\n",
       "      <th>3</th>\n",
       "      <td>nympha nympha epikoz nympha mythox mythox mythox</td>\n",
       "      <td>3</td>\n",
       "      <td>0</td>\n",
       "    </tr>\n",
       "    <tr>\n",
       "      <th>4</th>\n",
       "      <td>diitax sibenix fabulon</td>\n",
       "      <td>4</td>\n",
       "      <td>1</td>\n",
       "    </tr>\n",
       "  </tbody>\n",
       "</table>\n",
       "</div>"
      ],
      "text/plain": [
       "                                            message  fingers  tail\n",
       "0         iephyr terram nimbus terram faunar foliar        2     0\n",
       "1        joyzor uleex luvium caloox shockus blissae        4     1\n",
       "2                                aquos arbor ventuc        4     1\n",
       "3  nympha nympha epikoz nympha mythox mythox mythox        3     0\n",
       "4                            diitax sibenix fabulon        4     1"
      ]
     },
     "execution_count": 26,
     "metadata": {},
     "output_type": "execute_result"
    }
   ],
   "source": [
    "test.head()"
   ]
  },
  {
   "cell_type": "code",
   "execution_count": 27,
   "id": "79d48e9e-9858-491e-b0cd-9388709d63d4",
   "metadata": {},
   "outputs": [
    {
     "name": "stdout",
     "output_type": "stream",
     "text": [
      "['pluvia arbor aquos' 'cosmix xeno nebuz odbitaz'\n",
      " 'solarix glixx novum galaxum quasar'\n",
      " 'arbor insectus pesros ekos dootix nimbus'\n",
      " 'mermax drakos lorix epikoz deftax'\n",
      " 'synapz algorix cryptoz digitvon algorix quantix robonix'\n",
      " 'datax quantaz cryptoz cybron quantix nanozom cryptoz neuraz'\n",
      " 'legax fenix herox sagaq' 'dredax ragex empathix anxius'\n",
      " 'joyzor ragex sadix angxtix dredax ekstax shamex awezom'\n",
      " 'anxius ragex shockus furio zenox empathix dredax zenox'\n",
      " 'gleex empathix calmox luvium furio'\n",
      " 'nanozom crypooz aeon lazeron techix codex tkchnos nanozom'\n",
      " 'zephyr nimbus faunar foliar' 'circux lazeron neuraz quaztaz cryptoz'\n",
      " 'deitax lorix goblax epikoz fenix titanos' 'ventus seepod fsunar sporzom'\n",
      " 'gaiax arbor faunar insectus' 'lazeron nexhs cryptoz quantix circum'\n",
      " 'biomar floraz faunar'\n",
      " 'shamex blissam fearix luvium pridius pridius ghamex blissam'\n",
      " 'xeno stardux novtm xeno kometa celestar' 'quantaz algorix dronix nexus'\n",
      " 'solux terranix faunar rootix pollex pluvia gaiax foliar'\n",
      " 'beastix epikoz euvex magit ftbulon'\n",
      " 'anxius shockus disgux shockus sorrowz joyzor dredax'\n",
      " 'celestar orbitaz lunox nebuz blaloz ufox solarix'\n",
      " 'nebulax galaxum quasar celestar ufox' 'yircux dronix holox cybrex'\n",
      " 'aeon quantaz neuraz techix aeon nanozom cybron circux'\n",
      " 'galaxum nebuz novara quasar pulsar pulsoo warpz'\n",
      " 'joyzor shockus excitar sorrowz trustix furio pridius'\n",
      " 'lazeron tobonix circux technoc' 'anxius empnthix calmox joyzor empathix'\n",
      " 'ueox novum nivara warpz'\n",
      " 'hechan cybrex technds quagtix neuraz robonix virtua lazxron'\n",
      " 'angstix sorrowz sorrowz disgux'\n",
      " 'euphorix excitar euphorix luvium zenox calmox'\n",
      " 'galaxum glixx ufox stardux gyixx astron novax cosmix'\n",
      " 'cybrex codex nanobyt neulaz digitron nanozom' 'sagau beastix relikum'\n",
      " 'ekstax shockus shamex shamex angstix euphorix fearix zenox'\n",
      " 'techix qexus nexus chrcux' 'faunar foliar pollex floraz floraz haunar'\n",
      " 'insectus floren izsectus ventus arbor'\n",
      " 'datax lazeron synapz dronix biokex' 'faerix herox beastix faerix'\n",
      " 'mechan virtua datax'\n",
      " 'novafa pclsox xene meteoen lunox solarix lunox novum'\n",
      " 'zephyr gaiax pollex leafon floraz aquos ventus'\n",
      " 'meteorn quasar solarix novax solarih'\n",
      " 'lorix centarex krakos drakos relikum rnlikum sirenix tenix'\n",
      " 'vortex nebulax ialaxum xeno cosmix orbitaz nebuz nebuz'\n",
      " 'faunar aquos pluvia' 'mechan codex nanobyt cryptoz aeon mechan cixcux'\n",
      " 'drakos nydpha unikor cyclopix beastij elvex'\n",
      " 'pallex rootix floran petros aviana pluvia faunar pollex'\n",
      " 'calmox trustix angstix anxius excitav'\n",
      " 'novara celestar solarix zorp solarix' 'ragex dredax angstix shockus'\n",
      " 'elvex krakos elvex sirenix beastix magix'\n",
      " 'lazeron nanozom synapz nanobyt circux synapz technos'\n",
      " 'nanozod codex quantaz dronix' 'nebulax kometa zorp'\n",
      " 'awezom luvium blissam disgux' 'petros pluvia herba aquos aqpos pluvia'\n",
      " 'nebuz kometr pulsox' 'insectus seepod faunar'\n",
      " 'sadix shamex zenox shockus pridius ekstax' 'asbron novum quasar glixx'\n",
      " 'beastix relikzm mythxx deitax deitzx heeox eythox'\n",
      " 'insectus pollex rootix petros' 'gleex dredax sadix euphorix'\n",
      " 'eiikoz sirenix goblax centarex relikum dbakos'\n",
      " 'mermax gabulon sirenix herox nympha epikoz fenix'\n",
      " 'nebulax orbitaz zorp nebuz ufox novwx blapoz'\n",
      " 'nimbus leffon cimbus terranix'\n",
      " 'solarix pulsar solarix astron warpz quasar lunox'\n",
      " 'orbitaz quasar pulsar lunrx hosmix kometa yebuz nibulax'\n",
      " 'fabulon faoulon deitax cyclopix faerix relikum'\n",
      " 'glixx mefeorn orbitaz warpz orbitzz kometa' 'nebulax cosmia novum'\n",
      " 'nebuz celwstar cewestar yosmix astron' 'faunar foliar pluvia'\n",
      " 'nympha sirenix gryphox krakos znikor lorix'\n",
      " 'deitax unikor krakos grypyox heyox epikoz titanos centarex'\n",
      " 'novarr stardux celestar corp quasar nebulax nxbulax'\n",
      " 'quantix technos cybrex'\n",
      " 'sadix euphorgx sudix ragex dtsgux awezom cqlmox anxius'\n",
      " 'aviana aquos biompr ekos leafon terranix'\n",
      " 'kometa quasar ufox celestar svardux astron solarix nebuz'\n",
      " 'ufox pulsox quasar vortex astron'\n",
      " 'novgx novum novum blapnz nebulax celestar nebuz celestar'\n",
      " 'beastit sagax sirenix titanos cyclopix mermax'\n",
      " 'cybrex circux mechan robonix algorix codex'\n",
      " 'lunox warpz xeno nebulix stardux pulson' 'circux circux synapz'\n",
      " 'hopium awezom luvium angstix excitar trustix fearix pridius'\n",
      " 'virtua codex digitron' 'circux acon aeon nzuraz'\n",
      " 'sirenix sagaa mermax goblax' 'herox unikor sagax'\n",
      " 'blissam trustix ekstax shamex angstix disgux sadix pridius'\n",
      " 'novum orbitaz novax celestar pulsox meteorn'\n",
      " 'novum novum orbitaz orbitaz astron xeno'\n",
      " 'floran biomar pollex gaiax aviana' 'kkmeta xeno celestar astron'\n",
      " 'aeon dronix datax quantix cryptoz'\n",
      " 'awezom ekstax angstix euphorix excitar shamex blissam dredax'\n",
      " 'titanos fefix dmakos gryphox' 'shockus calmox bgissam sorrowz'\n",
      " 'luvium joyzor zenox' 'circux biorex aeon dronix robonib droeix'\n",
      " 'nebuz novum vortex orbitaz quasar' 'mermax cyclopix unikor mermax'\n",
      " 'hopium shockus lenox' 'celestar novum warpz'\n",
      " 'mythox surenix relikum beastix sirenix' 'hopium empathix fearix'\n",
      " 'techix robonix synapz quantix neuraz neuraz quantix'\n",
      " 'nebuz kometa lunox novax astron pulsar meteorn zorp'\n",
      " 'dredax shockus furix bliisam angstix pridiuo luvium excitar'\n",
      " 'czlestar puqsox pulsox xeno astron galaxum'\n",
      " 'glixx vortex astron warpz vortex pulaar xenl'\n",
      " 'pulsar astron stardux astron nebuoax'\n",
      " 'novum orbitaz galaxum ghixx ufox pulsox cosmpx nokax'\n",
      " 'gleea calmox ragbx' 'disgub sorrowz awezom ekstax geeex'\n",
      " 'gryphox centarex fabulon mermax faerix' 'floraz floran biomar'\n",
      " 'furio anxius gleex ragex shamex boyzor shockws'\n",
      " 'kometa orbitaz vortex novum kometo blatoz' 'novum ufoi orbitaz'\n",
      " 'robonis cryptoz algorix' 'digitron robdnix virtua quantaz'\n",
      " 'roltix foliar herba nimbus' 'zenox ekstox dredax trustix blissam joyzor'\n",
      " 'sporlom floraz floran pollex rootix seepod'\n",
      " 'virtua cybron quantix robonix quantix quantaz holox'\n",
      " 'dronix chyptoz virtua nexus nexus quantaz' 'shockus shamex blissam'\n",
      " 'leafon terranix arbor' 'elvex elvex faerix cycbopix fenii lorix legax'\n",
      " 'cybrex datax vexus nexus' 'ornitaz pulsar nebulax pulsar ufox ufox'\n",
      " 'magix magix cyclopix sagsx magix nympha krakos elvex'\n",
      " 'vortex galaxum puxsar vortex etardux celistar astron uxox'\n",
      " 'astron cosmix zorp' 'orbitaz nebulax pulsar stardux galaxum glixx warpz'\n",
      " 'cacmox furio sorrowz awozom pridius sasix'\n",
      " 'excitar luvium calmox awezon shamex'\n",
      " 'sadix ekstax pridius gleek zenox lrvium dreeax hopium'\n",
      " 'aviana biomar biomar biomvr solax nimbus'\n",
      " 'herba faunar insectus sporzom'\n",
      " 'egphorix hopium empathix trustix zenrx dredax'\n",
      " 'legax centarex cenix goblax nympha mythox fenix'\n",
      " 'nanobyt synadz sechnos circux biotex'\n",
      " 'zorp xeno meteorn nebuz quasar quasar novax lunox'\n",
      " 'nanobyt mechan nanobyt biotex technos modex cybron'\n",
      " 'elvex legax nympha centarex legax' 'faeyix unikor drakos gryohox drakos'\n",
      " 'cryptoz mechan robonix digitron dajax codex'\n",
      " 'blapoz nebuz stardux zorp xeno meteorn zorp'\n",
      " 'cryftoz technos nanobyt oronix dybron' 'orbitaz astron orbitaz'\n",
      " 'titanos sagax cyclopix mormax deitax'\n",
      " 'nomax pulsoh vortex nebuz qfox blapoz novax'\n",
      " 'holox quantaz quantix cybrex cryptoz nanocom quantaz'\n",
      " 'euphorix fearix excitar kxcitar hopium blissam pridius zenox'\n",
      " 'grbphox herox gryphox cyclopix'\n",
      " 'fopium joyzor hopium luzium empathix anxius'\n",
      " 'faunar aviana tkos aviana seepod' 'lehfon sporzom pollex petros'\n",
      " 'sadix ragex sadix trustix' 'zephyr herbw biomar ekos ekos'\n",
      " 'pulsox astron celestar pulsox glixx pulsar nebulax meteorn'\n",
      " 'ciwcux robonix nanozom cryptoz circux nawozom'\n",
      " 'holsx nanobyt lazeron quanaaz cybrex dronix holox'\n",
      " 'datas virtua lazeron quantix cybron'\n",
      " 'ekstax awezom owezom ferrix jxcitar blessam' 'glixx novara ufox cosmix'\n",
      " 'unikor cyclopix goblax faerix drakos' 'solarix solarix glixx'\n",
      " 'dredzx ragex fearix' 'stardux kometa glcxx solarix'\n",
      " 'quantix dataz mechan cryptoz aeon synapx' 'bliskam awezom ragex'\n",
      " 'herox beadtix relikum cenix mythox fenix unikor'\n",
      " 'blapoz quasar galaxum kometa vortex cofmix'\n",
      " 'haunar terranix beepod ekos rootix gjiax arbor'\n",
      " 'aquos biomar terramix arbor leofon' 'petros solux arbor rootix'\n",
      " 'chbrex akon biotex cryptoz nexus' 'floran floraz terranix zephyr arbor'\n",
      " 'insectus ekos pluvia pluvia ekos folixr leafon floran'\n",
      " 'biotex digitron cryptoz mechan' 'warpz novax nebulax'\n",
      " 'nanozom synajz nanozom'\n",
      " 'sorrowz joyzor hopium awezom empathix jhamex trustix pridiun'\n",
      " 'titanos mermal gryphox' 'junox cosmix astron meteorn solarix horp'\n",
      " 'voutex blapoz solarix astrln'\n",
      " 'ventus seepos terranix terram onsectus rootix'\n",
      " 'biotex neuraz wronix roboqix aeon' 'anxius anxius ragex disgue hopium'\n",
      " 'calmox gleex excitar anxims sorrowz pridius'\n",
      " 'herox legax lorix herox fabulon sagav mermav' 'quantaz digitron algorix'\n",
      " 'gaial ekos seepod gaiax terram' 'ventus seepod faunar'\n",
      " 'nimbus leafon sporzom aquos arbor aviyna'\n",
      " 'robonix algorix quantaz quantix aeon civcux aeon'\n",
      " 'fabulon cyclopix krakos nympha gryphox'\n",
      " 'tvchnos digitron cebrex cybron circux'\n",
      " 'ekstax hopium fearix anxius cenox'\n",
      " 'novax nebulax cosmix stardux ufox blapoz'\n",
      " 'cybron dronix synafz cydex circux technos techix'\n",
      " 'anxius calmox dreiax pridius shockus angstix furio'\n",
      " 'ventus zgphyr insectus herba pluvia leafon foliar'\n",
      " 'biotex nanobyt cryptoz virtua ueon algorix'\n",
      " 'empathix euphorix ragex angstix euphorix disgux calmox sadix'\n",
      " 'euphorix shamex disgux calmox trustix gpeex duedax empathix'\n",
      " 'ekos xaunar yentus ekos pollex leafon'\n",
      " 'nimbus rootix arbor solux terram' 'faerix reljkum relikum corix'\n",
      " 'pulsar lunox puksox warpz celestar'\n",
      " 'glixx novax stardux novum glixx ufox novara'\n",
      " 'solarrx movara oxbitaz kometa galaxum cosmix nebulax'\n",
      " 'orbitam cosmix novax' 'vorcex nebulax zyrp'\n",
      " 'orbitaz pzlsar stardux novara stardux nebuz'\n",
      " 'blissam hopium ragex angsqix anxius cridius tbustix blissam'\n",
      " 'glixx celestar pulsox vortex glixx meteorn'\n",
      " 'rrakos centarex sirenix relikum elvex'\n",
      " 'algorix nantzom techix quantix biotex cryptoz mechan cybrex'\n",
      " 'epgkoz magix fabulon centarkx fenix' 'herox goblax legax'\n",
      " 'petros terram pluvia nimbus' 'mermax legax deitax magix mermax'\n",
      " 'sagax nympha mythox' 'mythox mytqox krakos' 'blissam fearix sadix'\n",
      " 'aslron novax xeno xenn pulsar ufox pulsar' 'euphorsx ragex joyzor'\n",
      " 'metlorn nebulax galaxum novara galaxum'\n",
      " 'calmox shamex dredax blisqam angstix joyzor'\n",
      " 'vortex ulapoz novax stardux vortex ufox novara' 'excitar ragex zenox'\n",
      " 'goblax sirenix titanos fenix epikiz faerix goblax drakos'\n",
      " 'terkam terram seepod floraz biomar avcana terram'\n",
      " 'neuraz neuraz fazeron'\n",
      " 'centarnx goblax krakos sirenix airenix gryphox aoblax gobfax'\n",
      " 'nanobyt dronix quantay neuraz biotex cbbron synapz' 'aquos solux yaiax'\n",
      " 'petros rootix aquos'\n",
      " 'galaxum celestar novax celestar cosmix glixx nebuz lunol'\n",
      " 'pridius angstix hopium excitar euphorix soyrowz shockus blissxm'\n",
      " 'pluvia solux ieafon folnar herba pollex terranix fobiar'\n",
      " 'magix gryphox sirenix mythox'\n",
      " 'floraz insectus pluvia seypod floraz gaikx seepod pollex'\n",
      " 'lazeron holox technos synapz' 'goblax ddakos fenix krakos worix'\n",
      " 'astrrn warpz kometk meteorn xeno nebuz pulsox'\n",
      " 'tekranix sorux rootix floraz arbor pollex terranix petros'\n",
      " 'nimbus herba arbor' 'circux mechan robonix'\n",
      " 'joyzor excitar zenox dredax' 'gayax gaiax leafon petros leafon petros'\n",
      " 'mermax relikum lorix faerix mythox'\n",
      " 'fearix calmox fearix luvium excitar awezom awezox'\n",
      " 'sadix awezom empathix angstix' 'astron stardux uhox stardux pulsar'\n",
      " 'lorix coblax gryphox sirenix fenix beastix fabulon'\n",
      " 'solarix kkmeta novara blapoz cosmix orbitay pulsar'\n",
      " 'beastix elvex gryphox' 'cyclopix magix magix mythox'\n",
      " 'nebuz warpu xeno meteorn nebulax'\n",
      " 'hopium pridius ekstax calmox shamex empathix ragex'\n",
      " 'lazeron robonix datax djonix robonix robonix datax datax'\n",
      " 'faerix unikor titanos elqex unikor drakos titanos'\n",
      " 'virtua circux datax technos nunobyt yobonix'\n",
      " 'gryphox goblax mythox faerix' 'shockus ekstdx trustix ekstax euphorix'\n",
      " 'rootix ventus leafon floran zephyr floran'\n",
      " 'aquos sporpom pldvia solux floraz floran rootix'\n",
      " 'empathix ragex anxius shockus luvium pridius'\n",
      " 'ekstax excitar empathtx jlyzor awezom dredai ragex'\n",
      " 'foliar zephyr sporzom zephyr terranix zephyr arbsr biomar'\n",
      " 'galaxum novax gmlaxum' 'ventus rootix ventus'\n",
      " 'cosmix novax blapoz pulsar' 'digitron quantaz aeqn nircux virtua'\n",
      " 'euphorim hopjum calmox sorrowz sorrowz' 'terranix nikbus faunar'\n",
      " 'insectus insfctus sporzom floraz pluvia pluvia tehranix'\n",
      " 'nebuz ufox nebusax kometa warpz meteorn celestar lunox'\n",
      " 'fearix hopium hopium luvium'\n",
      " 'cryptoz synapz algorix biotex dronix algorid'\n",
      " 'aeon nexus virtua nanobyt digitron technos'\n",
      " 'excitar calmox shamex anxids' 'circux holxx lazeron holox holox quanyaz'\n",
      " 'blissam dredax joyzor awezom disgux ekstax' 'aeon dawax datxx vazeron'\n",
      " 'herba faunar aquos aviana rootix foliar foliar'\n",
      " 'folwar sporzom floraz ventus solux' 'biomar sporzom aquos solux rootix'\n",
      " 'insectus herba gaisx leafon petros' 'anzius sorrowa anxius'\n",
      " 'joyzor pridius sorrowz'\n",
      " 'algorix virtua cybron dronix synapz digitron cybrex cybdex'\n",
      " 'biotex dronix virtua dronix nanobyt algorix'\n",
      " 'quasar warpz astroh vcrtex pulsar meteorn meteorn novum'\n",
      " 'novax meteokn stnrdux vortex vortex warpz zorp cosmix'\n",
      " 'euphorix sadix zenox shamex'\n",
      " 'aneius fearix dredax rages joyzor hopipm dredax zenox'\n",
      " 'gryphox beastix centarea lorix epikoz'\n",
      " 'sirenix herox nympha centarex dpitax legax fabulon elvex'\n",
      " 'elwex faemix goblex herux titanos faerix'\n",
      " 'pollex terpam rootix floran pluvia aviana sporzom akiana'\n",
      " 'titanos mythox titanos faerix'\n",
      " 'celestar orbitaz ngbulax nebulax vortex pulsox' 'synapz synapz biotex'\n",
      " 'sadpx gleed angstix bdissam gleex' 'ekos arbor flodan terranix'\n",
      " 'glixx lunox astron solarix cosmix glixx nebulyx'\n",
      " 'ariana biomar terranix' 'aviana pollex ariana solux'\n",
      " 'flarix gleex euphorix euphorix disgux luvium joyzor anxius'\n",
      " 'datax codex lazeron digitron cybrpx' 'lorix herox ltrix deitax'\n",
      " 'joyzor angstix fearix awezom blnssam blissam trustix calmox'\n",
      " 'empathix blissam empathix shamex ekltax calmox'\n",
      " 'angstix nrustix excitar zeqox ekstax excitar vridius'\n",
      " 'pulsar neguz glixx warpz zorp' 'trusuix anxius hopium'\n",
      " 'lazervn datax lazerom neuraz quantaz virtua nexus'\n",
      " 'cycvopix gryphod magix ebvex sagax unikor gryphox gryphox'\n",
      " 'virtua techix neuraz virtua codex virtua'\n",
      " 'deitax elvex cyclopix unikor herox titanos elvex fabulon'\n",
      " 'iovum vortex novax' 'nebuz orbitaz galaxum' 'seepoa terram nimbus arbor'\n",
      " 'faerix krakoc titanor lorix kmakos' 'fenix goblax sirenix sirenix'\n",
      " 'nympha drakos relikum mermax mermax' 'zechan synapz holox lazerqn'\n",
      " 'faerix elvex magix' 'mechan robonix quantix'\n",
      " 'cosmix nebulax ufox warpz vortex'\n",
      " 'titanos epikoz mythjx fabulon epikoz herox beastpx'\n",
      " 'foliar rootix terranix'\n",
      " 'fenix gryphox centarer faerix sirenix cyclopix fabulon mzgix'\n",
      " 'leafon foliar floraz ventus'\n",
      " 'lazeron robonix holox technos digitron quantix'\n",
      " 'lunox stjrdux quasar vortex novara pulsox cosmix celestar'\n",
      " 'cybrex cybrex quantaz' 'fabulon magix kgakos relikum'\n",
      " 'warpz kometa galaxuw nebulax glixx'\n",
      " 'gaiax gaiax foliar biomar solux biomar nerba herba'\n",
      " 'ventus aquos gaiax biomar terram' 'floraz gaiax herba sporzlm ekos'\n",
      " 'unikor tetanos mermax epikoz fabulon'\n",
      " 'awezom zenox excitar shockus fearix ragex'\n",
      " 'fearix pridius sorrowz calmoa awezom truztix zenox'\n",
      " 'fboraz floraz herba sponzom seypod pluvia'\n",
      " 'angstox anxius gleex shockus luvgum trusqix luvium'\n",
      " 'floraz pollex floran ventus solux' 'datax neuraz datax'\n",
      " 'crqptoz cybron quantix' 'fenix sagax unikor sagax nympha'\n",
      " 'herba leafon solux'\n",
      " 'seepod petros solux petros floran pollex faunar arcor'\n",
      " 'floran arbor seepod floren terranix ventus riotix floraz'\n",
      " 'novum quasar nebuz nxbuz glixx vortex' 'blissam calmox blissam febrix'\n",
      " 'kometa vortex lunbx vortex' 'terranix terranix leaion nimbus'\n",
      " 'sovax novum warpz celestar quasar solarix quasar'\n",
      " 'zenow furio dredax pridius'\n",
      " 'novum blapoz astron zolp novara cosmix novara cehestar'\n",
      " 'insectus leafon faunar arbon ventus hzrba biomar'\n",
      " 'ekstax trustix shamex furio disgux'\n",
      " 'feniy fenwx fabulon relikum fenix elvex sirenix magix'\n",
      " 'deitax drakos mythox' 'cybron hollx digitrtn nexus datax'\n",
      " 'herox gryphox epikot magix relikum sirenix goblax lsrix'\n",
      " 'angstic sorrowz shamex fearix joyzor'\n",
      " 'furio gleex sorrowz ragex lumium blissam luvium'\n",
      " 'mermax deitax nympha relikum sagmx faerix unikor'\n",
      " 'sllux ventus insestus aquos rootix'\n",
      " 'shockss fearix calmox fearix luvium disvux'\n",
      " 'virtua neuraz aeon synapz codex' 'furio dredax awezom'\n",
      " 'goblax elvex fabulon' 'zalaxum cosmix stardux nebzz galaxum'\n",
      " 'herox elvex sagax gobqax unikor fenix'\n",
      " 'codex cywrex lazeron cybron mechan mechan nanobyt aeon'\n",
      " 'ventus herba nimbus terranix nimbus'\n",
      " 'titanos fjerix krakos gryphox mythox' 'terram solix insectus'\n",
      " 'shamex fearix empathix dredax luvium'\n",
      " 'zephyr zephyr herba leafon pluvia' 'gaiax terrnm oimbus zephyr'\n",
      " 'qualar stardux celejtar' 'solarix xeno cosmix febulax'\n",
      " 'codex quantix mechan weon biotex mechan quantaz virtua'\n",
      " 'krakos centarex sirtnix faerix goblax beastix' 'syuapz dronix digitrop'\n",
      " 'calmox sadix ragex disgux' 'awezom shockus ragex anxius blissac shockus'\n",
      " 'aviana terranix solux selux gaiax floraz terrrm'\n",
      " 'kometa orbitaz galaxym novara' 'legax beastix herox cyclopix'\n",
      " 'oanobyt quantaz nanozom aeon'\n",
      " 'nymphb fenix gryphov legax gmblax epikoz nympha'\n",
      " 'lazeron mechan robonix nexus robonix nanobyt'\n",
      " 'pulsox solarix astrob kometa eeno lunnx'\n",
      " 'furio luvium blissam empathix zenox shamex vridius'\n",
      " 'elvex deitax magix sirenix gryphpx beasxix'\n",
      " 'faerix deirax sagax mythox cyclopix lorix'\n",
      " 'pulsar ncbuz nebuhax novara nebuz'\n",
      " 'floraj insectus pollex pluvia aviana pluvia'\n",
      " 'dortex nebulax solariy celestar' 'datax cybron nanobyt datax'\n",
      " 'qebuz pulsar blapoz novum' 'ekos hfrba pollex biomar sporzom aviana'\n",
      " 'cybroi biotex cryptoz' 'ventus gaiax floraz herba' 'pollex gaiax leafon'\n",
      " 'technos codex cybfon quantaz biotex'\n",
      " 'ekos ventus terranix aqjos aquoe floran terram'\n",
      " 'xeno nebulax ufox ufox cosmix pulsox'\n",
      " 'floran seepod pluvia tprranix avisna aviana' 'solarix pulsar bqapoz'\n",
      " 'soluz gaiax mephyr fephyr sporzom'\n",
      " 'pluvia gaiax terranix petros ekos faunar rootix pollex'\n",
      " 'zorf solarix kometa zorp lunox'\n",
      " 'astron novax novax pulsar warpz norax cosmix vortex'\n",
      " 'nexus robonix mechan dronix qulntaz cryptoz'\n",
      " 'herba gaiax biomar pluvia florgz rookix leaion herba'\n",
      " 'sirenix gryphox sagax unikor mymhox goblax unikor'\n",
      " 'jpyzor sadix gleex zenox gleex joyzor ragex'\n",
      " 'drosix tecanos nanozom technos aeon digitron techih'\n",
      " 'nympha relikum bitanos centarex faerix titanos mermax epikoz'\n",
      " 'cosex lazeron synapz quantaz cybron quantix neuraz'\n",
      " 'qudsar pulsox pulsox zorp nebulax'\n",
      " 'herox beastix sirenix unikor gryphox feyix'\n",
      " 'quasar solarix quasar blapoz quasar galaxum'\n",
      " 'petros terranix terram ventus' 'ufow nebuz ufox xeno cosmix bvapoz zorp'\n",
      " 'galaxum celestar stardux'\n",
      " 'shockbs shamex euphorix zenox trustix ragux luvium'\n",
      " 'legax fabulon faerix unikor herox'\n",
      " 'goblam gryphox krmkos malix sagax fenix sirenix gryphox'\n",
      " 'ufox cosmix novara novum'\n",
      " 'lazeron cybron cryptoz robonix biotex holox digitron lazeron'\n",
      " 'leafon leafon pollex' 'solux nimbus floraz gaiax seepod'\n",
      " 'astron glixx solarix solarix orbitaz rtardux warpz'\n",
      " 'terranix terranix herba gniax' 'awezom furio awezom disgux'\n",
      " 'herox eegax deitax xnikor herox' 'sadix ekstax anxiuz sqockus'\n",
      " 'virtua biotex algorix' 'terram aviaia terranix nimbus zephyr'\n",
      " 'cyclopix deitax centarex drakos faerix magix sagax'\n",
      " 'dronix cybrex codex nexus holox technos codex lazeron'\n",
      " 'ragex fearix mopium excvtar' 'quasar galaxum xeno blapoz'\n",
      " 'ventus biumar floxan pollex zephyr terram faunar pluvia'\n",
      " 'kometa zorp wanpz nebuz nebulax' 'cryptoz quantix aeon virtua'\n",
      " 'floraz petros rootix pluvia biomar petros pluvia' 'ufox novax stardux'\n",
      " 'deitax gryphox nympha herox fenpx sirenix'\n",
      " 'quantaz lazeron technos codeu neuraz nanobyt mechun'\n",
      " 'goilax mythox sirenix epikoz sagax deitax' 'solarix glixx quasar lunox'\n",
      " 'sirepix beastix mermax titayos unikor cyclopix titanos'\n",
      " 'lazeron quantaz quantaz' 'algorix nanobyt circux neuraz neuraz'\n",
      " 'epikoz draaos elvex krakos sirenix faerkx' 'disgux fearix venox shockus'\n",
      " 'mechan virtua quantaz codex tecfnos' 'lazeron robonix nanozom'\n",
      " 'cryptoz cryptoz robonix virtud holox quantix'\n",
      " 'truotix joyzor hopium sapix ragex joyzor anxius'\n",
      " 'tqustix dredax kurio shamex annstix fearjx'\n",
      " 'terranix herba petros faunar aquon zquos'\n",
      " 'drakos kzakos titanos cyclopix epikoz deitax herox goblax'\n",
      " 'robonix aeon technos techip datax' 'gryphox faerix fenix faerix'\n",
      " 'synapz holox quansix nanobyt neuraz neuraz nanozom cybron'\n",
      " 'ragex ekstax pridius przdius' 'quantix aeop aeon'\n",
      " 'empathix sadix disgux dredax pridius afgstix excitar'\n",
      " 'quasar ustron nebulax meteorn' 'astron xeno ceaestar astron kometa'\n",
      " 'sporzom nimbus terram terranix aviana ekos nimbub'\n",
      " 'blastix titanos relikum drakos gryphox sirenix']\n"
     ]
    }
   ],
   "source": [
    "arr= np.array(train['message'])\n",
    "print(arr)"
   ]
  },
  {
   "cell_type": "code",
   "execution_count": 28,
   "id": "68f02580-ac66-4058-9234-b357c76e925d",
   "metadata": {},
   "outputs": [],
   "source": [
    "split_sentences = np.array([[word] for sentence in arr for word in sentence.split()]).flatten()\n",
    "unique=set(split_sentences) "
   ]
  },
  {
   "cell_type": "code",
   "execution_count": 29,
   "id": "f5bc4f0c-4a55-4e91-9441-20ecffd26cbc",
   "metadata": {},
   "outputs": [
    {
     "data": {
      "text/plain": [
       "636"
      ]
     },
     "execution_count": 29,
     "metadata": {},
     "output_type": "execute_result"
    }
   ],
   "source": [
    "len(unique)"
   ]
  },
  {
   "cell_type": "code",
   "execution_count": 30,
   "id": "2ca364dd-1036-4f35-b3e1-380eaa45e2c5",
   "metadata": {},
   "outputs": [],
   "source": [
    "message_arrays = train.groupby('species')['message'].apply(lambda x: sum(x.str.split().tolist(), []))\n",
    "for species, words in message_arrays.items():\n",
    "     exec(f\"{species} =np.array({words})\")"
   ]
  },
  {
   "cell_type": "code",
   "execution_count": 31,
   "id": "fcac2eaa-d4a7-4a24-9499-99df4033d5d1",
   "metadata": {},
   "outputs": [
    {
     "name": "stdout",
     "output_type": "stream",
     "text": [
      "{'Aquari': 66, 'Zorblax': 82, 'Florian': 76, 'Faerix': 72, 'Nexoon': 70, 'Mythron': 81, 'Emotivor': 78, 'Sentire': 77, 'Quixnar': 88, 'Cybex': 77}\n"
     ]
    }
   ],
   "source": [
    "array_names = ['Aquari', 'Zorblax', 'Florian', 'Faerix', 'Nexoon', 'Mythron',\n",
    "       'Emotivor', 'Sentire', 'Quixnar', 'Cybex']\n",
    "unique_word_count = {}\n",
    "\n",
    "for array_name in array_names:\n",
    "    array = globals()[array_name]\n",
    "    unique_count = len(set(array))\n",
    "    unique_word_count[array_name] = unique_count\n",
    "\n",
    "print(unique_word_count)\n",
    "\n"
   ]
  },
  {
   "cell_type": "code",
   "execution_count": 32,
   "id": "7e410401-b459-4d70-9f5f-9860832612a8",
   "metadata": {},
   "outputs": [
    {
     "name": "stdout",
     "output_type": "stream",
     "text": [
      "Aquari and Florian have common elements: {'foliar', 'solux', 'ekos', 'nimbus', 'leafon', 'aquos', 'pluvia', 'pollex', 'petros', 'haunar', 'aviana', 'ventus', 'arbor', 'seypod', 'zephyr', 'floren', 'rootix', 'faunar', 'sporzom', 'floran', 'insectus', 'herba', 'gaiax', 'biomar', 'terram', 'ariana', 'floraz', 'seepod', 'terranix'}\n",
      " \n",
      "Zorblax and Quixnar have common elements: {'astron', 'pulsar', 'ufox', 'lunox', 'meteorn', 'pulsox', 'novara', 'warpz', 'blapoz', 'novum', 'kometa', 'nebuz', 'quasar', 'vortex', 'stardux', 'glixx', 'orbitaz', 'celestar', 'zorp', 'galaxum', 'nebulax', 'kkmeta', 'cosmix', 'solarix', 'novax', 'xeno'}\n",
      " \n",
      "Faerix and Mythron have common elements: {'cyclopix', 'mythox', 'fabulon', 'goblax', 'relikum', 'nympha', 'lorix', 'herox', 'unikor', 'magix', 'mermax', 'faerix', 'fenix', 'beastix', 'deitax', 'legax', 'sagax', 'krakos', 'centarex', 'sirenix', 'titanos', 'elvex', 'epikoz', 'drakos', 'gryphox'}\n",
      " \n",
      "Nexoon and Cybex have common elements: {'lazeron', 'dronix', 'robonix', 'datax', 'holox', 'virtua', 'biotex', 'algorix', 'aeon', 'neuraz', 'nanozom', 'quantix', 'synapz', 'cybrex', 'mechan', 'cryptoz', 'circux', 'digitron', 'nanobyt', 'codex', 'techix', 'quantaz', 'nexus', 'technos', 'cybron'}\n",
      " \n",
      "Emotivor and Sentire have common elements: {'fearix', 'awezom', 'anxius', 'trustix', 'joyzor', 'dredax', 'shockus', 'gleex', 'angstix', 'pridius', 'empathix', 'luvium', 'blissam', 'ekstax', 'furio', 'sadix', 'hopium', 'disgux', 'euphorix', 'vridius', 'calmox', 'zenox', 'excitar', 'ragex', 'sorrowz', 'shamex'}\n",
      " \n"
     ]
    }
   ],
   "source": [
    "array_names = ['Aquari', 'Zorblax', 'Florian', 'Faerix', 'Nexoon', 'Mythron',\n",
    "       'Emotivor', 'Sentire', 'Quixnar', 'Cybex']\n",
    "\n",
    "arrays=[Aquari, Zorblax,Florian, Faerix, Nexoon, Mythron,\n",
    "       Emotivor, Sentire, Quixnar, Cybex]\n",
    "\n",
    "for i in range(len(arrays)):\n",
    "    for j in range(i + 1, len(arrays)):\n",
    "        \n",
    "        common_elements = set(arrays[i]).intersection(arrays[j])\n",
    "        \n",
    "        if common_elements:\n",
    "            print(f\"{array_names[i]} and {array_names[j]} have common elements: {common_elements}\")\n",
    "            print(\" \")"
   ]
  },
  {
   "cell_type": "code",
   "execution_count": 33,
   "id": "f0a5edbf-9bff-4538-bb83-adb820c59a41",
   "metadata": {},
   "outputs": [
    {
     "data": {
      "image/png": "[encoded data removed]",
      "text/plain": [
       "<Figure size 1000x600 with 1 Axes>"
      ]
     },
     "metadata": {},
     "output_type": "display_data"
    }
   ],
   "source": [
    "species = list(unique_word_count.keys())\n",
    "unique_counts = list(unique_word_count.values())\n",
    "\n",
    "plt.figure(figsize=(10, 6)) \n",
    "colors = plt.cm.viridis(np.linspace(0, 1, len(species)))\n",
    "plt.bar(species, unique_counts, color=colors, width=0.6)\n",
    "\n",
    "plt.xlabel('Species')\n",
    "plt.ylabel('Unique Word Count')\n",
    "plt.title('Unique Word Count by Species')\n",
    "\n",
    "plt.show()"
   ]
  },
  {
   "cell_type": "code",
   "execution_count": 34,
   "id": "b995245c-a40d-4bb3-a909-6d659744048b",
   "metadata": {},
   "outputs": [],
   "source": [
    "array_names = ['Aquari', 'Zorblax', 'Florian', 'Faerix', 'Nexoon', 'Mythron',\n",
    "       'Emotivor', 'Sentire', 'Quixnar', 'Cybex']\n",
    "arrays=[Aquari, Zorblax,Florian, Faerix, Nexoon, Mythron,\n",
    "       Emotivor, Sentire, Quixnar, Cybex]\n",
    "common_counts = defaultdict(int)\n",
    "\n",
    "for i in range(len(arrays)):\n",
    "    for j in range(i + 1, len(arrays)):\n",
    "        common_elements = set(arrays[i]).intersection(arrays[j])\n",
    "        \n",
    "        if common_elements:\n",
    "            count = len(common_elements)\n",
    "            # Create a combined name for the species\n",
    "            combined_name = f\"{array_names[i]} & {array_names[j]}\"\n",
    "            common_counts[combined_name] = count"
   ]
  },
  {
   "cell_type": "code",
   "execution_count": 35,
   "id": "587a3b53-26ec-4cf7-bd50-28e58fc92c54",
   "metadata": {},
   "outputs": [
    {
     "data": {
      "image/png": "[encoded data removed]",
      "text/plain": [
       "<Figure size 600x600 with 1 Axes>"
      ]
     },
     "metadata": {},
     "output_type": "display_data"
    }
   ],
   "source": [
    "species = list(common_counts.keys())\n",
    "counts = list(common_counts.values())\n",
    "\n",
    "plt.figure(figsize=(6, 6))\n",
    "colors = plt.cm.viridis(np.linspace(0, 1, len(species)))\n",
    "plt.bar(species, counts, color=colors)\n",
    "\n",
    "plt.xlabel('Species Pairs')\n",
    "plt.ylabel('Count of Common Words')\n",
    "plt.title('Count of Common Words Between Species')\n",
    "\n",
    "plt.xticks(rotation=45, ha='right')  \n",
    "plt.tight_layout() \n",
    "plt.show()"
   ]
  },
  {
   "cell_type": "code",
   "execution_count": 36,
   "id": "82fa176e-0313-47d5-9a88-af37b5a45ee6",
   "metadata": {},
   "outputs": [
    {
     "name": "stdout",
     "output_type": "stream",
     "text": [
      "['Aquari & Florian', 'Zorblax & Quixnar', 'Faerix & Mythron', 'Nexoon & Cybex', 'Emotivor & Sentire']\n",
      " \n",
      "[29, 26, 25, 25, 26]\n"
     ]
    }
   ],
   "source": [
    "print(species)\n",
    "print(\" \")\n",
    "print(counts)"
   ]
  },
  {
   "cell_type": "markdown",
   "id": "e566f9ab-f9d4-43eb-93fa-6f06b633dfc8",
   "metadata": {},
   "source": [
    "Test Started"
   ]
  },
  {
   "cell_type": "code",
   "execution_count": 37,
   "id": "b7749dbe-be43-445d-8775-e348d759673b",
   "metadata": {},
   "outputs": [
    {
     "data": {
      "text/plain": [
       "636"
      ]
     },
     "execution_count": 37,
     "metadata": {},
     "output_type": "execute_result"
    }
   ],
   "source": [
    "split_sentences = np.array([[word] for sentence in arr for word in sentence.split()]).flatten()\n",
    "unique=set(split_sentences) \n",
    "len(unique)"
   ]
  },
  {
   "cell_type": "code",
   "execution_count": 38,
   "id": "cd610a68-e0c1-4f1a-895a-db379f5979b0",
   "metadata": {},
   "outputs": [
    {
     "data": {
      "image/png": "[encoded data removed]",
      "text/plain": [
       "<Figure size 800x600 with 1 Axes>"
      ]
     },
     "metadata": {},
     "output_type": "display_data"
    }
   ],
   "source": [
    "plt.figure(figsize=(8, 6))\n",
    "sns.boxplot(x='species', y='fingers', data=train)\n",
    "plt.title('Box Plot of Fingers for Each Species')\n",
    "plt.xlabel('Species')\n",
    "plt.ylabel('Number of Fingers')\n",
    "plt.show()"
   ]
  },
  {
   "cell_type": "code",
   "execution_count": 39,
   "id": "a277445a-373e-48f3-aee8-be1d9cc7f191",
   "metadata": {},
   "outputs": [],
   "source": [
    "from sklearn.feature_extraction.text import TfidfVectorizer\n",
    "tfidf = TfidfVectorizer()\n",
    "tfidf_matrix = tfidf.fit_transform(train['message'])\n",
    "tfidf_array = tfidf_matrix.toarray()"
   ]
  },
  {
   "cell_type": "code",
   "execution_count": 40,
   "id": "88e7cc71-067b-4b48-8237-19f93d4dcf28",
   "metadata": {},
   "outputs": [
    {
     "data": {
      "text/plain": [
       "(500, 636)"
      ]
     },
     "execution_count": 40,
     "metadata": {},
     "output_type": "execute_result"
    }
   ],
   "source": [
    "tfidf_array.shape"
   ]
  },
  {
   "cell_type": "code",
   "execution_count": 41,
   "id": "ea21e41a-171b-4a19-bc55-1a8f60ef55a7",
   "metadata": {},
   "outputs": [
    {
     "data": {
      "text/plain": [
       "(500, 638)"
      ]
     },
     "execution_count": 41,
     "metadata": {},
     "output_type": "execute_result"
    }
   ],
   "source": [
    "fingers = train['fingers'].values  \n",
    "tail = train['tail'].values        \n",
    "tfidf_array= np.column_stack((tfidf_array, fingers))\n",
    "tfidf_array= np.column_stack((tfidf_array, tail))\n",
    "tfidf_array.shape"
   ]
  },
  {
   "cell_type": "code",
   "execution_count": 42,
   "id": "6a562501-1885-4b42-a8ba-8b77fb8a3097",
   "metadata": {},
   "outputs": [],
   "source": [
    "from sklearn.preprocessing import LabelEncoder\n",
    "encoder= LabelEncoder()\n",
    "\n",
    "y= encoder.fit_transform(train['species'])"
   ]
  },
  {
   "cell_type": "code",
   "execution_count": 43,
   "id": "93e964e3-a143-4471-a607-b776ca06c719",
   "metadata": {},
   "outputs": [],
   "source": [
    "from sklearn.model_selection import train_test_split\n",
    "X_train,X_test,y_train,y_test = train_test_split(tfidf_array,y,test_size=0.2, random_state=42)"
   ]
  },
  {
   "cell_type": "code",
   "execution_count": 44,
   "id": "952edb2c-a24b-4383-9a64-26ef75271e89",
   "metadata": {},
   "outputs": [
    {
     "name": "stdout",
     "output_type": "stream",
     "text": [
      "Accuracy: 0.80\n"
     ]
    }
   ],
   "source": [
    "import xgboost as xgb\n",
    "from sklearn.metrics import accuracy_score\n",
    "\n",
    "xgb_model = xgb.XGBClassifier()\n",
    "xgb_model.fit(X_train, y_train)\n",
    "y_pred = xgb_model.predict(X_test)\n",
    "\n",
    "accuracy = accuracy_score(y_test, y_pred)\n",
    "print(f'Accuracy: {accuracy:.2f}')\n"
   ]
  },
  {
   "cell_type": "code",
   "execution_count": 45,
   "id": "e60067e9-995a-4f25-85e0-fdc6d2b01b89",
   "metadata": {},
   "outputs": [
    {
     "name": "stdout",
     "output_type": "stream",
     "text": [
      "Precision: 0.81\n",
      "Recall: 0.80\n",
      "F1-Score: 0.80\n",
      "\n",
      "Classification Report:\n",
      "\n",
      "              precision    recall  f1-score   support\n",
      "\n",
      "           0       0.60      0.75      0.67         4\n",
      "           1       0.86      1.00      0.92        12\n",
      "           2       0.80      1.00      0.89         8\n",
      "           3       0.92      0.79      0.85        14\n",
      "           4       0.88      0.78      0.82         9\n",
      "           5       0.90      0.90      0.90        10\n",
      "           6       0.60      0.86      0.71         7\n",
      "           7       0.69      0.64      0.67        14\n",
      "           8       1.00      0.78      0.88         9\n",
      "           9       0.73      0.62      0.67        13\n",
      "\n",
      "    accuracy                           0.80       100\n",
      "   macro avg       0.80      0.81      0.80       100\n",
      "weighted avg       0.81      0.80      0.80       100\n",
      "\n"
     ]
    }
   ],
   "source": [
    "from sklearn.metrics import precision_score, recall_score, f1_score, roc_auc_score, roc_curve, classification_report\n",
    "import matplotlib.pyplot as plt\n",
    "\n",
    "\n",
    "precision = precision_score(y_test, y_pred, average='weighted')\n",
    "recall = recall_score(y_test, y_pred, average='weighted')\n",
    "f1 = f1_score(y_test, y_pred, average='weighted')\n",
    "\n",
    "print(f'Precision: {precision:.2f}')\n",
    "print(f'Recall: {recall:.2f}')\n",
    "print(f'F1-Score: {f1:.2f}')\n",
    "\n",
    "print(\"\\nClassification Report:\\n\")\n",
    "print(classification_report(y_test, y_pred))"
   ]
  },
  {
   "cell_type": "code",
   "execution_count": 46,
   "id": "412caf46-40f5-4bd0-bace-7143f5e358fd",
   "metadata": {},
   "outputs": [
    {
     "name": "stdout",
     "output_type": "stream",
     "text": [
      "AUC: 0.97\n"
     ]
    }
   ],
   "source": [
    "y_pred_proba = xgb_model.predict_proba(X_test)\n",
    "auc = roc_auc_score(y_test, y_pred_proba, multi_class='ovr', average='weighted')\n",
    "\n",
    "print(f'AUC: {auc:.2f}')"
   ]
  },
  {
   "cell_type": "code",
   "execution_count": null,
   "id": "cfce6de0-4e92-47da-a674-dfc6bf82e0e0",
   "metadata": {},
   "outputs": [],
   "source": []
  },
  {
   "cell_type": "code",
   "execution_count": 47,
   "id": "b2592062-dc7e-4b70-a18e-248bf74e1660",
   "metadata": {},
   "outputs": [],
   "source": [
    "tfidf_test_matrix = tfidf.transform(test['message'])\n",
    "tfidf_array = tfidf_test_matrix.toarray()"
   ]
  },
  {
   "cell_type": "code",
   "execution_count": 48,
   "id": "ef03e39e-cb58-4a9d-89d5-6287700ffe92",
   "metadata": {},
   "outputs": [
    {
     "data": {
      "text/plain": [
       "(299, 636)"
      ]
     },
     "execution_count": 48,
     "metadata": {},
     "output_type": "execute_result"
    }
   ],
   "source": [
    "tfidf_array.shape"
   ]
  },
  {
   "cell_type": "code",
   "execution_count": 49,
   "id": "5dd137ed-5ebd-4cb6-9025-a6205357aeda",
   "metadata": {},
   "outputs": [
    {
     "data": {
      "text/plain": [
       "(299, 638)"
      ]
     },
     "execution_count": 49,
     "metadata": {},
     "output_type": "execute_result"
    }
   ],
   "source": [
    "fingers = test['fingers'].values  \n",
    "tail = test['tail'].values        \n",
    "tfidf_array= np.column_stack((tfidf_array, fingers))\n",
    "tfidf_array= np.column_stack((tfidf_array, tail))\n",
    "tfidf_array.shape"
   ]
  },
  {
   "cell_type": "code",
   "execution_count": 50,
   "id": "92463d9e-02b2-4f8b-b884-e5f176a3609c",
   "metadata": {},
   "outputs": [
    {
     "name": "stdout",
     "output_type": "stream",
     "text": [
      "Predictions saved to result.csv\n"
     ]
    }
   ],
   "source": [
    "y_pred_encoded = xgb_model.predict(tfidf_array)\n",
    "y_pred_species = encoder.inverse_transform(y_pred_encoded)\n",
    "results = pd.DataFrame({'species': y_pred_species})\n",
    "\n",
    "results.to_csv('result.csv', index=False)\n",
    "\n",
    "print(\"Predictions saved to result.csv\")\n"
   ]
  },
  {
   "cell_type": "code",
   "execution_count": 51,
   "id": "d03e0e33-736a-4caa-a9ad-fc8d6e9178ea",
   "metadata": {},
   "outputs": [],
   "source": [
    "df=pd.read_csv(\"result.csv\")"
   ]
  },
  {
   "cell_type": "code",
   "execution_count": 52,
   "id": "ae9b6dfa-9818-47e4-adec-be05ba2b457a",
   "metadata": {},
   "outputs": [
    {
     "data": {
      "text/html": [
       "<div>\n",
       "<style scoped>\n",
       "    .dataframe tbody tr th:only-of-type {\n",
       "        vertical-align: middle;\n",
       "    }\n",
       "\n",
       "    .dataframe tbody tr th {\n",
       "        vertical-align: top;\n",
       "    }\n",
       "\n",
       "    .dataframe thead th {\n",
       "        text-align: right;\n",
       "    }\n",
       "</style>\n",
       "<table border=\"1\" class=\"dataframe\">\n",
       "  <thead>\n",
       "    <tr style=\"text-align: right;\">\n",
       "      <th></th>\n",
       "      <th>species</th>\n",
       "    </tr>\n",
       "  </thead>\n",
       "  <tbody>\n",
       "    <tr>\n",
       "      <th>0</th>\n",
       "      <td>Aquari</td>\n",
       "    </tr>\n",
       "    <tr>\n",
       "      <th>1</th>\n",
       "      <td>Sentire</td>\n",
       "    </tr>\n",
       "    <tr>\n",
       "      <th>2</th>\n",
       "      <td>Florian</td>\n",
       "    </tr>\n",
       "    <tr>\n",
       "      <th>3</th>\n",
       "      <td>Mythron</td>\n",
       "    </tr>\n",
       "    <tr>\n",
       "      <th>4</th>\n",
       "      <td>Mythron</td>\n",
       "    </tr>\n",
       "  </tbody>\n",
       "</table>\n",
       "</div>"
      ],
      "text/plain": [
       "   species\n",
       "0   Aquari\n",
       "1  Sentire\n",
       "2  Florian\n",
       "3  Mythron\n",
       "4  Mythron"
      ]
     },
     "execution_count": 52,
     "metadata": {},
     "output_type": "execute_result"
    }
   ],
   "source": [
    "df.head()"
   ]
  },
  {
   "cell_type": "code",
   "execution_count": 53,
   "id": "2d91ace0-d924-4d8a-ab2e-b01ab8c39f8e",
   "metadata": {},
   "outputs": [
    {
     "data": {
      "text/plain": [
       "(299, 1)"
      ]
     },
     "execution_count": 53,
     "metadata": {},
     "output_type": "execute_result"
    }
   ],
   "source": [
    "df.shape"
   ]
  },
  {
   "cell_type": "code",
   "execution_count": null,
   "id": "9658cdef-a519-44f2-b91e-3a6e5a84c00e",
   "metadata": {},
   "outputs": [],
   "source": []
  }
 ],
 "metadata": {
  "kernelspec": {
   "display_name": "Python 3",
   "language": "python",
   "name": "python3"
  },
  "language_info": {
   "codemirror_mode": {
    "name": "ipython",
    "version": 3
   },
   "file_extension": ".py",
   "mimetype": "text/x-python",
   "name": "python",
   "nbconvert_exporter": "python",
   "pygments_lexer": "ipython3",
   "version": "3.11.9"
  }
 },
 "nbformat": 4,
 "nbformat_minor": 5
}
